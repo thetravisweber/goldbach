{
 "cells": [
  {
   "cell_type": "code",
   "execution_count": 7,
   "id": "4a58a55d",
   "metadata": {},
   "outputs": [],
   "source": [
    "def next_term(pm, pl):\n",
    "    return (2 * pm) + 2 - pl"
   ]
  },
  {
   "cell_type": "code",
   "execution_count": 15,
   "id": "977ee882",
   "metadata": {},
   "outputs": [
    {
     "data": {
      "text/plain": [
       "9"
      ]
     },
     "execution_count": 15,
     "metadata": {},
     "output_type": "execute_result"
    }
   ],
   "source": [
    "next_term(5, 3)"
   ]
  },
  {
   "cell_type": "code",
   "execution_count": 9,
   "id": "bb7460a5",
   "metadata": {},
   "outputs": [],
   "source": [
    "def is_prime(n):\n",
    "    for m in range(2, int(n/2)):\n",
    "        if ((n / m) % 1 == 0):\n",
    "            return False\n",
    "    return True"
   ]
  },
  {
   "cell_type": "code",
   "execution_count": 12,
   "id": "fca9dfde",
   "metadata": {},
   "outputs": [
    {
     "data": {
      "text/plain": [
       "False"
      ]
     },
     "execution_count": 12,
     "metadata": {},
     "output_type": "execute_result"
    }
   ],
   "source": [
    "is_prime(12)"
   ]
  },
  {
   "cell_type": "code",
   "execution_count": 13,
   "id": "14bf4ea1",
   "metadata": {},
   "outputs": [
    {
     "name": "stdout",
     "output_type": "stream",
     "text": [
      "9 is prime\n"
     ]
    }
   ],
   "source": [
    "count = 0\n",
    "pm = 5\n",
    "pl = 3\n",
    "while ((count < 100) and (is_prime(pm))):\n",
    "    print(f\"{pm} is prime\")\n",
    "    count+=1\n",
    "    temp = pm\n",
    "    pm = next_term(pm, pl)\n",
    "    pl = temp"
   ]
  },
  {
   "cell_type": "code",
   "execution_count": null,
   "id": "3017b3e0",
   "metadata": {},
   "outputs": [],
   "source": []
  }
 ],
 "metadata": {
  "kernelspec": {
   "display_name": "Python 3 (ipykernel)",
   "language": "python",
   "name": "python3"
  },
  "language_info": {
   "codemirror_mode": {
    "name": "ipython",
    "version": 3
   },
   "file_extension": ".py",
   "mimetype": "text/x-python",
   "name": "python",
   "nbconvert_exporter": "python",
   "pygments_lexer": "ipython3",
   "version": "3.7.3"
  }
 },
 "nbformat": 4,
 "nbformat_minor": 5
}
